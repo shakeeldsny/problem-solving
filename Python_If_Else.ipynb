{
  "nbformat": 4,
  "nbformat_minor": 0,
  "metadata": {
    "colab": {
      "provenance": [],
      "authorship_tag": "ABX9TyPkSN+zE9EgUH8nHMFxmRg3",
      "include_colab_link": true
    },
    "kernelspec": {
      "name": "python3",
      "display_name": "Python 3"
    },
    "language_info": {
      "name": "python"
    }
  },
  "cells": [
    {
      "cell_type": "markdown",
      "metadata": {
        "id": "view-in-github",
        "colab_type": "text"
      },
      "source": [
        "<a href=\"https://colab.research.google.com/github/shakeeldsny/problem-solving/blob/main/Python_If_Else.ipynb\" target=\"_parent\"><img src=\"https://colab.research.google.com/assets/colab-badge.svg\" alt=\"Open In Colab\"/></a>"
      ]
    },
    {
      "cell_type": "code",
      "execution_count": null,
      "metadata": {
        "id": "Wl1rbCnz4eA8"
      },
      "outputs": [],
      "source": [
        "n = int(input())\n",
        "if n%2!=0:\n",
        "    print(\"Weird\")\n",
        "elif n >= 2 and n <= 5:\n",
        "    print(\"Not Weird\")\n",
        "elif n >= 6 and n <= 20:\n",
        "    print(\"Weird\")\n",
        "else:\n",
        "    print(\"Not Weird\")"
      ]
    },
    {
      "cell_type": "code",
      "source": [],
      "metadata": {
        "id": "EC1PPf8x45_o"
      },
      "execution_count": null,
      "outputs": []
    }
  ]
}